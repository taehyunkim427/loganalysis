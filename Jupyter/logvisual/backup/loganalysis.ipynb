{
 "cells": [
  {
   "cell_type": "markdown",
   "metadata": {},
   "source": [
    "## import modules"
   ]
  },
  {
   "cell_type": "code",
   "execution_count": 1,
   "metadata": {},
   "outputs": [],
   "source": [
    "import os\n",
    "import pandas as pd\n",
    "import re\n",
    "import numpy as np\n",
    "import matplotlib as mpl\n",
    "import matplotlib.pyplot as plt\n",
    "import seaborn as sns\n",
    "import warnings"
   ]
  },
  {
   "cell_type": "markdown",
   "metadata": {},
   "source": [
    "---"
   ]
  },
  {
   "cell_type": "markdown",
   "metadata": {},
   "source": [
    "## load data to pandas dataframe"
   ]
  },
  {
   "cell_type": "code",
   "execution_count": 2,
   "metadata": {
    "scrolled": true
   },
   "outputs": [
    {
     "data": {
      "text/html": [
       "<div>\n",
       "<style scoped>\n",
       "    .dataframe tbody tr th:only-of-type {\n",
       "        vertical-align: middle;\n",
       "    }\n",
       "\n",
       "    .dataframe tbody tr th {\n",
       "        vertical-align: top;\n",
       "    }\n",
       "\n",
       "    .dataframe thead th {\n",
       "        text-align: right;\n",
       "    }\n",
       "</style>\n",
       "<table border=\"1\" class=\"dataframe\">\n",
       "  <thead>\n",
       "    <tr style=\"text-align: right;\">\n",
       "      <th></th>\n",
       "      <th>0</th>\n",
       "      <th>date</th>\n",
       "      <th>time</th>\n",
       "      <th>loglevel</th>\n",
       "      <th>serviceID</th>\n",
       "      <th>message</th>\n",
       "    </tr>\n",
       "  </thead>\n",
       "  <tbody>\n",
       "    <tr>\n",
       "      <th>count</th>\n",
       "      <td>171</td>\n",
       "      <td>171</td>\n",
       "      <td>171</td>\n",
       "      <td>171</td>\n",
       "      <td>171</td>\n",
       "      <td>171</td>\n",
       "    </tr>\n",
       "    <tr>\n",
       "      <th>unique</th>\n",
       "      <td>171</td>\n",
       "      <td>2</td>\n",
       "      <td>35</td>\n",
       "      <td>2</td>\n",
       "      <td>2</td>\n",
       "      <td>101</td>\n",
       "    </tr>\n",
       "    <tr>\n",
       "      <th>top</th>\n",
       "      <td>03/08/2020 15:36:59 [1] 30-Normal: Autodetect ...</td>\n",
       "      <td>03/08/2020</td>\n",
       "      <td>15:37:12</td>\n",
       "      <td>[1]</td>\n",
       "      <td>30-Normal:</td>\n",
       "      <td>Index connection granted to: 127.0.0.1</td>\n",
       "    </tr>\n",
       "    <tr>\n",
       "      <th>freq</th>\n",
       "      <td>1</td>\n",
       "      <td>164</td>\n",
       "      <td>14</td>\n",
       "      <td>135</td>\n",
       "      <td>168</td>\n",
       "      <td>17</td>\n",
       "    </tr>\n",
       "  </tbody>\n",
       "</table>\n",
       "</div>"
      ],
      "text/plain": [
       "                                                        0        date  \\\n",
       "count                                                 171         171   \n",
       "unique                                                171           2   \n",
       "top     03/08/2020 15:36:59 [1] 30-Normal: Autodetect ...  03/08/2020   \n",
       "freq                                                    1         164   \n",
       "\n",
       "            time loglevel   serviceID                                 message  \n",
       "count        171      171         171                                     171  \n",
       "unique        35        2           2                                     101  \n",
       "top     15:37:12      [1]  30-Normal:  Index connection granted to: 127.0.0.1  \n",
       "freq          14      135         168                                      17  "
      ]
     },
     "execution_count": 2,
     "metadata": {},
     "output_type": "execute_result"
    }
   ],
   "source": [
    "path_dir = './log2'\n",
    "file_list = os.listdir(path_dir)\n",
    "file_list.sort()\n",
    "data = pd.DataFrame()\n",
    "for file in file_list:\n",
    "    now = pd.read_csv(f'./{file}', sep='\\r\\s', header=None, engine='python')\n",
    "    data = pd.concat([data,now])\n",
    "data[['date', 'time','loglevel' ,'serviceID', 'message']] = data[0].str.split(' ', n=4, expand=True)\n",
    "warnings.filterwarnings(action='ignore')\n",
    "data.describe()"
   ]
  },
  {
   "cell_type": "markdown",
   "metadata": {},
   "source": [
    "---"
   ]
  },
  {
   "cell_type": "markdown",
   "metadata": {},
   "source": [
    "## assign index and datetime"
   ]
  },
  {
   "cell_type": "code",
   "execution_count": 3,
   "metadata": {},
   "outputs": [
    {
     "data": {
      "text/html": [
       "<div>\n",
       "<style scoped>\n",
       "    .dataframe tbody tr th:only-of-type {\n",
       "        vertical-align: middle;\n",
       "    }\n",
       "\n",
       "    .dataframe tbody tr th {\n",
       "        vertical-align: top;\n",
       "    }\n",
       "\n",
       "    .dataframe thead th {\n",
       "        text-align: right;\n",
       "    }\n",
       "</style>\n",
       "<table border=\"1\" class=\"dataframe\">\n",
       "  <thead>\n",
       "    <tr style=\"text-align: right;\">\n",
       "      <th></th>\n",
       "      <th>timestamp</th>\n",
       "      <th>serviceID</th>\n",
       "      <th>loglevel</th>\n",
       "      <th>message</th>\n",
       "    </tr>\n",
       "    <tr>\n",
       "      <th>index</th>\n",
       "      <th></th>\n",
       "      <th></th>\n",
       "      <th></th>\n",
       "      <th></th>\n",
       "    </tr>\n",
       "  </thead>\n",
       "  <tbody>\n",
       "    <tr>\n",
       "      <th>0</th>\n",
       "      <td>2020-08-03 15:31:48</td>\n",
       "      <td>30-Normal:</td>\n",
       "      <td>[0]</td>\n",
       "      <td>Index connection granted to: 127.0.0.1</td>\n",
       "    </tr>\n",
       "    <tr>\n",
       "      <th>1</th>\n",
       "      <td>2020-08-03 15:31:48</td>\n",
       "      <td>70-Error:</td>\n",
       "      <td>[0]</td>\n",
       "      <td>POST data did not include #DREENDDATA</td>\n",
       "    </tr>\n",
       "    <tr>\n",
       "      <th>2</th>\n",
       "      <td>2020-08-03 15:31:48</td>\n",
       "      <td>30-Normal:</td>\n",
       "      <td>[0]</td>\n",
       "      <td>Saved incomplete POST data to C:\\MicroFocus\\ID...</td>\n",
       "    </tr>\n",
       "    <tr>\n",
       "      <th>3</th>\n",
       "      <td>2020-08-03 15:32:20</td>\n",
       "      <td>30-Normal:</td>\n",
       "      <td>[0]</td>\n",
       "      <td>Index connection granted to: 127.0.0.1</td>\n",
       "    </tr>\n",
       "    <tr>\n",
       "      <th>4</th>\n",
       "      <td>2020-08-03 15:32:20</td>\n",
       "      <td>70-Error:</td>\n",
       "      <td>[0]</td>\n",
       "      <td>POST data did not include #DREENDDATA</td>\n",
       "    </tr>\n",
       "    <tr>\n",
       "      <th>...</th>\n",
       "      <td>...</td>\n",
       "      <td>...</td>\n",
       "      <td>...</td>\n",
       "      <td>...</td>\n",
       "    </tr>\n",
       "    <tr>\n",
       "      <th>166</th>\n",
       "      <td>2020-08-04 10:54:15</td>\n",
       "      <td>30-Normal:</td>\n",
       "      <td>[1]</td>\n",
       "      <td>Index Queue Command: DREADD?C%3A%5CUsers%5CUSE...</td>\n",
       "    </tr>\n",
       "    <tr>\n",
       "      <th>167</th>\n",
       "      <td>2020-08-04 10:54:15</td>\n",
       "      <td>70-Error:</td>\n",
       "      <td>[1]</td>\n",
       "      <td>Indexing Error: Cannot open index file \"C:\\Use...</td>\n",
       "    </tr>\n",
       "    <tr>\n",
       "      <th>168</th>\n",
       "      <td>2020-08-04 10:54:15</td>\n",
       "      <td>30-Normal:</td>\n",
       "      <td>[1]</td>\n",
       "      <td>Index command finished. Took 0.01 s</td>\n",
       "    </tr>\n",
       "    <tr>\n",
       "      <th>169</th>\n",
       "      <td>2020-08-04 10:56:15</td>\n",
       "      <td>30-Normal:</td>\n",
       "      <td>[1]</td>\n",
       "      <td>Delayed sync mode: Starting commit</td>\n",
       "    </tr>\n",
       "    <tr>\n",
       "      <th>170</th>\n",
       "      <td>2020-08-04 10:56:15</td>\n",
       "      <td>30-Normal:</td>\n",
       "      <td>[1]</td>\n",
       "      <td>Delayed sync mode: Finished commit. Took 0.02 s</td>\n",
       "    </tr>\n",
       "  </tbody>\n",
       "</table>\n",
       "<p>171 rows × 4 columns</p>\n",
       "</div>"
      ],
      "text/plain": [
       "                timestamp   serviceID loglevel  \\\n",
       "index                                            \n",
       "0     2020-08-03 15:31:48  30-Normal:      [0]   \n",
       "1     2020-08-03 15:31:48   70-Error:      [0]   \n",
       "2     2020-08-03 15:31:48  30-Normal:      [0]   \n",
       "3     2020-08-03 15:32:20  30-Normal:      [0]   \n",
       "4     2020-08-03 15:32:20   70-Error:      [0]   \n",
       "...                   ...         ...      ...   \n",
       "166   2020-08-04 10:54:15  30-Normal:      [1]   \n",
       "167   2020-08-04 10:54:15   70-Error:      [1]   \n",
       "168   2020-08-04 10:54:15  30-Normal:      [1]   \n",
       "169   2020-08-04 10:56:15  30-Normal:      [1]   \n",
       "170   2020-08-04 10:56:15  30-Normal:      [1]   \n",
       "\n",
       "                                                 message  \n",
       "index                                                     \n",
       "0                 Index connection granted to: 127.0.0.1  \n",
       "1                  POST data did not include #DREENDDATA  \n",
       "2      Saved incomplete POST data to C:\\MicroFocus\\ID...  \n",
       "3                 Index connection granted to: 127.0.0.1  \n",
       "4                  POST data did not include #DREENDDATA  \n",
       "...                                                  ...  \n",
       "166    Index Queue Command: DREADD?C%3A%5CUsers%5CUSE...  \n",
       "167    Indexing Error: Cannot open index file \"C:\\Use...  \n",
       "168                  Index command finished. Took 0.01 s  \n",
       "169                   Delayed sync mode: Starting commit  \n",
       "170      Delayed sync mode: Finished commit. Took 0.02 s  \n",
       "\n",
       "[171 rows x 4 columns]"
      ]
     },
     "execution_count": 3,
     "metadata": {},
     "output_type": "execute_result"
    }
   ],
   "source": [
    "data['datetime'] = data['date'] + data['time']\n",
    "data['timestamp'] = pd.to_datetime(data['datetime'], format=\"%d/%m/%Y%H:%M:%S\")\n",
    "data.drop(columns=[0,'date','time','datetime'], inplace=True)\n",
    "data.insert(0,'index', range(len(data)))\n",
    "data.set_index('index',inplace=True)\n",
    "data = data[['timestamp', 'serviceID', 'loglevel', 'message']]\n",
    "data"
   ]
  },
  {
   "cell_type": "markdown",
   "metadata": {},
   "source": [
    "---"
   ]
  },
  {
   "cell_type": "markdown",
   "metadata": {},
   "source": [
    "## extract command messages and processing time"
   ]
  },
  {
   "cell_type": "code",
   "execution_count": 4,
   "metadata": {
    "scrolled": false
   },
   "outputs": [
    {
     "data": {
      "text/html": [
       "<div>\n",
       "<style scoped>\n",
       "    .dataframe tbody tr th:only-of-type {\n",
       "        vertical-align: middle;\n",
       "    }\n",
       "\n",
       "    .dataframe tbody tr th {\n",
       "        vertical-align: top;\n",
       "    }\n",
       "\n",
       "    .dataframe thead th {\n",
       "        text-align: right;\n",
       "    }\n",
       "</style>\n",
       "<table border=\"1\" class=\"dataframe\">\n",
       "  <thead>\n",
       "    <tr style=\"text-align: right;\">\n",
       "      <th></th>\n",
       "      <th>timestamp</th>\n",
       "      <th>serviceID</th>\n",
       "      <th>loglevel</th>\n",
       "      <th>message</th>\n",
       "      <th>processtime</th>\n",
       "    </tr>\n",
       "    <tr>\n",
       "      <th>index</th>\n",
       "      <th></th>\n",
       "      <th></th>\n",
       "      <th></th>\n",
       "      <th></th>\n",
       "      <th></th>\n",
       "    </tr>\n",
       "  </thead>\n",
       "  <tbody>\n",
       "    <tr>\n",
       "      <th>10</th>\n",
       "      <td>2020-08-03 15:33:16</td>\n",
       "      <td>30-Normal:</td>\n",
       "      <td>[1]</td>\n",
       "      <td>Sync Mapped Files...Completed</td>\n",
       "      <td>0.01</td>\n",
       "    </tr>\n",
       "    <tr>\n",
       "      <th>23</th>\n",
       "      <td>2020-08-03 15:37:01</td>\n",
       "      <td>30-Normal:</td>\n",
       "      <td>[1]</td>\n",
       "      <td>Done Indexing IndexID=5</td>\n",
       "      <td>1.91</td>\n",
       "    </tr>\n",
       "    <tr>\n",
       "      <th>39</th>\n",
       "      <td>2020-08-03 15:37:12</td>\n",
       "      <td>30-Normal:</td>\n",
       "      <td>[1]</td>\n",
       "      <td>Done Indexing IndexID=6</td>\n",
       "      <td>0.18</td>\n",
       "    </tr>\n",
       "    <tr>\n",
       "      <th>59</th>\n",
       "      <td>2020-08-03 15:38:41</td>\n",
       "      <td>30-Normal:</td>\n",
       "      <td>[1]</td>\n",
       "      <td>Sync Mapped Files...Completed</td>\n",
       "      <td>2.27</td>\n",
       "    </tr>\n",
       "    <tr>\n",
       "      <th>63</th>\n",
       "      <td>2020-08-03 15:44:16</td>\n",
       "      <td>30-Normal:</td>\n",
       "      <td>[1]</td>\n",
       "      <td>Index Queue Command: DRECREATEDBASE?DREDbName=...</td>\n",
       "      <td>0.01</td>\n",
       "    </tr>\n",
       "  </tbody>\n",
       "</table>\n",
       "</div>"
      ],
      "text/plain": [
       "                timestamp   serviceID loglevel  \\\n",
       "index                                            \n",
       "10    2020-08-03 15:33:16  30-Normal:      [1]   \n",
       "23    2020-08-03 15:37:01  30-Normal:      [1]   \n",
       "39    2020-08-03 15:37:12  30-Normal:      [1]   \n",
       "59    2020-08-03 15:38:41  30-Normal:      [1]   \n",
       "63    2020-08-03 15:44:16  30-Normal:      [1]   \n",
       "\n",
       "                                                 message  processtime  \n",
       "index                                                                  \n",
       "10                         Sync Mapped Files...Completed         0.01  \n",
       "23                               Done Indexing IndexID=5         1.91  \n",
       "39                               Done Indexing IndexID=6         0.18  \n",
       "59                         Sync Mapped Files...Completed         2.27  \n",
       "63     Index Queue Command: DRECREATEDBASE?DREDbName=...         0.01  "
      ]
     },
     "execution_count": 4,
     "metadata": {},
     "output_type": "execute_result"
    }
   ],
   "source": [
    "took = data[data['message'].str.contains('Took')]\n",
    "process = data.iloc[list(took.index-1)]\n",
    "process.insert(4,'processtime', list(took['message']))\n",
    "process['processtime'] = process['processtime'].str.replace('[^0-9.]','')\n",
    "process['processtime'] = process['processtime'].str[1:]\n",
    "process['processtime'] = pd.to_numeric(process['processtime'])\n",
    "process.head()"
   ]
  },
  {
   "cell_type": "markdown",
   "metadata": {},
   "source": [
    "---"
   ]
  },
  {
   "cell_type": "markdown",
   "metadata": {},
   "source": [
    "## extract inserts and updates"
   ]
  },
  {
   "cell_type": "code",
   "execution_count": 5,
   "metadata": {},
   "outputs": [
    {
     "data": {
      "text/html": [
       "<div>\n",
       "<style scoped>\n",
       "    .dataframe tbody tr th:only-of-type {\n",
       "        vertical-align: middle;\n",
       "    }\n",
       "\n",
       "    .dataframe tbody tr th {\n",
       "        vertical-align: top;\n",
       "    }\n",
       "\n",
       "    .dataframe thead th {\n",
       "        text-align: right;\n",
       "    }\n",
       "</style>\n",
       "<table border=\"1\" class=\"dataframe\">\n",
       "  <thead>\n",
       "    <tr style=\"text-align: right;\">\n",
       "      <th></th>\n",
       "      <th>timestamp</th>\n",
       "      <th>serviceID</th>\n",
       "      <th>loglevel</th>\n",
       "      <th>message</th>\n",
       "      <th>processtime</th>\n",
       "      <th>insert</th>\n",
       "      <th>update</th>\n",
       "    </tr>\n",
       "    <tr>\n",
       "      <th>index</th>\n",
       "      <th></th>\n",
       "      <th></th>\n",
       "      <th></th>\n",
       "      <th></th>\n",
       "      <th></th>\n",
       "      <th></th>\n",
       "      <th></th>\n",
       "    </tr>\n",
       "  </thead>\n",
       "  <tbody>\n",
       "    <tr>\n",
       "      <th>23</th>\n",
       "      <td>2020-08-03 15:37:01</td>\n",
       "      <td>30-Normal:</td>\n",
       "      <td>[1]</td>\n",
       "      <td>Done Indexing IndexID=5</td>\n",
       "      <td>1.91</td>\n",
       "      <td>1339</td>\n",
       "      <td>29</td>\n",
       "    </tr>\n",
       "    <tr>\n",
       "      <th>39</th>\n",
       "      <td>2020-08-03 15:37:12</td>\n",
       "      <td>30-Normal:</td>\n",
       "      <td>[1]</td>\n",
       "      <td>Done Indexing IndexID=6</td>\n",
       "      <td>0.18</td>\n",
       "      <td>214</td>\n",
       "      <td>106</td>\n",
       "    </tr>\n",
       "    <tr>\n",
       "      <th>77</th>\n",
       "      <td>2020-08-03 15:44:46</td>\n",
       "      <td>30-Normal:</td>\n",
       "      <td>[1]</td>\n",
       "      <td>Done Indexing IndexID=9</td>\n",
       "      <td>0.05</td>\n",
       "      <td>46</td>\n",
       "      <td>94</td>\n",
       "    </tr>\n",
       "    <tr>\n",
       "      <th>100</th>\n",
       "      <td>2020-08-03 16:01:27</td>\n",
       "      <td>30-Normal:</td>\n",
       "      <td>[1]</td>\n",
       "      <td>Done Indexing IndexID=11</td>\n",
       "      <td>0.02</td>\n",
       "      <td>0</td>\n",
       "      <td>0</td>\n",
       "    </tr>\n",
       "    <tr>\n",
       "      <th>112</th>\n",
       "      <td>2020-08-03 16:01:34</td>\n",
       "      <td>30-Normal:</td>\n",
       "      <td>[1]</td>\n",
       "      <td>Done Indexing IndexID=12</td>\n",
       "      <td>0.01</td>\n",
       "      <td>0</td>\n",
       "      <td>0</td>\n",
       "    </tr>\n",
       "  </tbody>\n",
       "</table>\n",
       "</div>"
      ],
      "text/plain": [
       "                timestamp   serviceID loglevel                   message  \\\n",
       "index                                                                      \n",
       "23    2020-08-03 15:37:01  30-Normal:      [1]   Done Indexing IndexID=5   \n",
       "39    2020-08-03 15:37:12  30-Normal:      [1]   Done Indexing IndexID=6   \n",
       "77    2020-08-03 15:44:46  30-Normal:      [1]   Done Indexing IndexID=9   \n",
       "100   2020-08-03 16:01:27  30-Normal:      [1]  Done Indexing IndexID=11   \n",
       "112   2020-08-03 16:01:34  30-Normal:      [1]  Done Indexing IndexID=12   \n",
       "\n",
       "       processtime  insert  update  \n",
       "index                               \n",
       "23            1.91    1339      29  \n",
       "39            0.18     214     106  \n",
       "77            0.05      46      94  \n",
       "100           0.02       0       0  \n",
       "112           0.01       0       0  "
      ]
     },
     "execution_count": 5,
     "metadata": {},
     "output_type": "execute_result"
    }
   ],
   "source": [
    "idx = process[process['message'].str.contains('Done Indexing')]\n",
    "idx['document'] = list(data.iloc[list(idx.index-1)].message)\n",
    "idx['document'] = idx['document'].str.replace('[^\\d,]','')\n",
    "idx[['insert', 'update']] = idx['document'].str.split(',', n=2, expand=True)\n",
    "idx['insert'] = idx['insert'].str.replace('^\\s*$', '0')\n",
    "idx['update'].fillna(0,inplace = True)\n",
    "idx['insert'] = pd.to_numeric(idx['insert'])\n",
    "idx['update'] = pd.to_numeric(idx['update'])\n",
    "idx.drop(columns='document',inplace=True)\n",
    "idx.head()"
   ]
  },
  {
   "cell_type": "markdown",
   "metadata": {},
   "source": [
    "---"
   ]
  },
  {
   "cell_type": "markdown",
   "metadata": {},
   "source": [
    "## group by hour"
   ]
  },
  {
   "cell_type": "code",
   "execution_count": 6,
   "metadata": {},
   "outputs": [
    {
     "data": {
      "text/html": [
       "<div>\n",
       "<style scoped>\n",
       "    .dataframe tbody tr th:only-of-type {\n",
       "        vertical-align: middle;\n",
       "    }\n",
       "\n",
       "    .dataframe tbody tr th {\n",
       "        vertical-align: top;\n",
       "    }\n",
       "\n",
       "    .dataframe thead th {\n",
       "        text-align: right;\n",
       "    }\n",
       "</style>\n",
       "<table border=\"1\" class=\"dataframe\">\n",
       "  <thead>\n",
       "    <tr style=\"text-align: right;\">\n",
       "      <th></th>\n",
       "      <th>insertsum(docs)</th>\n",
       "      <th>updatesum(docs)</th>\n",
       "      <th>indexpersecond(docs/s)</th>\n",
       "      <th>processtimesum(s)</th>\n",
       "      <th>processtimemean(s)</th>\n",
       "      <th>processtimemax(s)</th>\n",
       "      <th>processtimemin(s)</th>\n",
       "      <th>count(cmds)</th>\n",
       "    </tr>\n",
       "    <tr>\n",
       "      <th>timestamphour</th>\n",
       "      <th></th>\n",
       "      <th></th>\n",
       "      <th></th>\n",
       "      <th></th>\n",
       "      <th></th>\n",
       "      <th></th>\n",
       "      <th></th>\n",
       "      <th></th>\n",
       "    </tr>\n",
       "  </thead>\n",
       "  <tbody>\n",
       "    <tr>\n",
       "      <th>15</th>\n",
       "      <td>1599</td>\n",
       "      <td>229</td>\n",
       "      <td>854</td>\n",
       "      <td>2.14</td>\n",
       "      <td>0.71</td>\n",
       "      <td>1.91</td>\n",
       "      <td>0.05</td>\n",
       "      <td>3</td>\n",
       "    </tr>\n",
       "    <tr>\n",
       "      <th>16</th>\n",
       "      <td>0</td>\n",
       "      <td>0</td>\n",
       "      <td>0</td>\n",
       "      <td>0.06</td>\n",
       "      <td>0.01</td>\n",
       "      <td>0.02</td>\n",
       "      <td>0.01</td>\n",
       "      <td>5</td>\n",
       "    </tr>\n",
       "  </tbody>\n",
       "</table>\n",
       "</div>"
      ],
      "text/plain": [
       "               insertsum(docs)  updatesum(docs)  indexpersecond(docs/s)  \\\n",
       "timestamphour                                                             \n",
       "15                        1599              229                     854   \n",
       "16                           0                0                       0   \n",
       "\n",
       "               processtimesum(s)  processtimemean(s)  processtimemax(s)  \\\n",
       "timestamphour                                                             \n",
       "15                          2.14                0.71               1.91   \n",
       "16                          0.06                0.01               0.02   \n",
       "\n",
       "               processtimemin(s)  count(cmds)  \n",
       "timestamphour                                  \n",
       "15                          0.05            3  \n",
       "16                          0.01            5  "
      ]
     },
     "execution_count": 6,
     "metadata": {},
     "output_type": "execute_result"
    }
   ],
   "source": [
    "idx['timestamphour'] = idx['timestamp'].dt.hour\n",
    "pivot = idx.pivot_table(values=['processtime', 'insert', 'update'], index='timestamphour' ,aggfunc=np.sum)\n",
    "pivot['indexpersecond(docs/s)'] = ((pivot['insert'] + pivot['update']) / pivot['processtime']).astype(int)\n",
    "pivot2 = idx.pivot_table(values='processtime', index='timestamphour', aggfunc=np.mean)\n",
    "pivot3 = idx.pivot_table(values='processtime', index='timestamphour', aggfunc=np.max)\n",
    "pivot4 = idx.pivot_table(values='processtime', index='timestamphour', aggfunc=np.min)\n",
    "pivot5 = idx.pivot_table(values='processtime', index='timestamphour', aggfunc='count')\n",
    "pivot['processtimemean(s)'] = pivot2['processtime'].round(2)\n",
    "pivot['processtimemax(s)'] = pivot3['processtime'].round(2)\n",
    "pivot['processtimemin(s)'] = pivot4['processtime'].round(2)\n",
    "pivot['count(cmds)'] = pivot5['processtime'].round(2)\n",
    "new_index = ['insert','update','indexpersecond(docs/s)','processtime','processtimemean(s)','processtimemax(s)','processtimemin(s)','count(cmds)']\n",
    "new_index_name = {'insert':'insertsum(docs)','update':'updatesum(docs)','processtime':'processtimesum(s)'}\n",
    "pivot = pivot.reindex(new_index, axis='columns')\n",
    "pivot.rename(new_index_name,axis='columns',inplace=True)\n",
    "pivot"
   ]
  },
  {
   "cell_type": "markdown",
   "metadata": {},
   "source": [
    "---"
   ]
  },
  {
   "cell_type": "markdown",
   "metadata": {},
   "source": [
    "## data visualization"
   ]
  },
  {
   "cell_type": "code",
   "execution_count": 7,
   "metadata": {},
   "outputs": [
    {
     "data": {
      "text/plain": [
       "<matplotlib.axes._subplots.AxesSubplot at 0x212a965e588>"
      ]
     },
     "execution_count": 7,
     "metadata": {},
     "output_type": "execute_result"
    },
    {
     "data": {
      "image/png": "[encoded data removed]",
      "text/plain": [
       "<Figure size 1296x288 with 1 Axes>"
      ]
     },
     "metadata": {
      "needs_background": "light"
     },
     "output_type": "display_data"
    }
   ],
   "source": [
    "plt.figure(figsize=[18,4])\n",
    "\n",
    "sns.pointplot(x=pivot.index, y='indexpersecond(docs/s)',data=pivot)"
   ]
  },
  {
   "cell_type": "code",
   "execution_count": 8,
   "metadata": {},
   "outputs": [
    {
     "data": {
      "text/plain": [
       "<matplotlib.axes._subplots.AxesSubplot at 0x212ad5cd5c8>"
      ]
     },
     "execution_count": 8,
     "metadata": {},
     "output_type": "execute_result"
    },
    {
     "data": {
      "image/png": "[encoded data removed]",
      "text/plain": [
       "<Figure size 1296x288 with 1 Axes>"
      ]
     },
     "metadata": {
      "needs_background": "light"
     },
     "output_type": "display_data"
    }
   ],
   "source": [
    "fig, ax3 = plt.subplots(nrows=1, ncols=1)\n",
    "fig.set_size_inches(18, 4)\n",
    "\n",
    "sns.barplot(data=pivot, x=pivot.index, y=\"insertsum(docs)\", ax=ax3)"
   ]
  },
  {
   "cell_type": "code",
   "execution_count": 9,
   "metadata": {},
   "outputs": [
    {
     "data": {
      "text/plain": [
       "<matplotlib.axes._subplots.AxesSubplot at 0x212aedf0648>"
      ]
     },
     "execution_count": 9,
     "metadata": {},
     "output_type": "execute_result"
    },
    {
     "data": {
      "image/png": "[encoded data removed]",
      "text/plain": [
       "<Figure size 1296x288 with 1 Axes>"
      ]
     },
     "metadata": {
      "needs_background": "light"
     },
     "output_type": "display_data"
    }
   ],
   "source": [
    "fig, ax4 = plt.subplots(nrows=1, ncols=1)\n",
    "fig.set_size_inches(18, 4)\n",
    "\n",
    "sns.barplot(data=pivot, x=pivot.index, y=\"updatesum(docs)\", ax=ax4)"
   ]
  }
 ],
 "metadata": {
  "kernelspec": {
   "display_name": "Python 3",
   "language": "python",
   "name": "python3"
  },
  "language_info": {
   "codemirror_mode": {
    "name": "ipython",
    "version": 3
   },
   "file_extension": ".py",
   "mimetype": "text/x-python",
   "name": "python",
   "nbconvert_exporter": "python",
   "pygments_lexer": "ipython3",
   "version": "3.7.6"
  }
 },
 "nbformat": 4,
 "nbformat_minor": 4
}
