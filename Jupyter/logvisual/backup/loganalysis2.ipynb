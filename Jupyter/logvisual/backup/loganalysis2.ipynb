{
 "cells": [
  {
   "cell_type": "markdown",
   "metadata": {},
   "source": [
    "## import modules"
   ]
  },
  {
   "cell_type": "code",
   "execution_count": 1,
   "metadata": {},
   "outputs": [],
   "source": [
    "import os\n",
    "import pandas as pd\n",
    "import re\n",
    "import numpy as np\n",
    "import matplotlib as mpl\n",
    "import matplotlib.pyplot as plt\n",
    "import seaborn as sns\n",
    "import warnings"
   ]
  },
  {
   "cell_type": "markdown",
   "metadata": {},
   "source": [
    "---"
   ]
  },
  {
   "cell_type": "markdown",
   "metadata": {},
   "source": [
    "## load data to pandas dataframe"
   ]
  },
  {
   "cell_type": "code",
   "execution_count": 2,
   "metadata": {},
   "outputs": [
    {
     "data": {
      "text/html": [
       "<div>\n",
       "<style scoped>\n",
       "    .dataframe tbody tr th:only-of-type {\n",
       "        vertical-align: middle;\n",
       "    }\n",
       "\n",
       "    .dataframe tbody tr th {\n",
       "        vertical-align: top;\n",
       "    }\n",
       "\n",
       "    .dataframe thead th {\n",
       "        text-align: right;\n",
       "    }\n",
       "</style>\n",
       "<table border=\"1\" class=\"dataframe\">\n",
       "  <thead>\n",
       "    <tr style=\"text-align: right;\">\n",
       "      <th></th>\n",
       "      <th>0</th>\n",
       "      <th>date</th>\n",
       "      <th>time</th>\n",
       "      <th>serviceID</th>\n",
       "      <th>message</th>\n",
       "    </tr>\n",
       "  </thead>\n",
       "  <tbody>\n",
       "    <tr>\n",
       "      <th>count</th>\n",
       "      <td>219644</td>\n",
       "      <td>219644</td>\n",
       "      <td>219644</td>\n",
       "      <td>219644</td>\n",
       "      <td>219644</td>\n",
       "    </tr>\n",
       "    <tr>\n",
       "      <th>unique</th>\n",
       "      <td>136429</td>\n",
       "      <td>201</td>\n",
       "      <td>4211</td>\n",
       "      <td>2</td>\n",
       "      <td>74025</td>\n",
       "    </tr>\n",
       "    <tr>\n",
       "      <th>top</th>\n",
       "      <td>03/07/2016 01:07:59 [1] Replace Fields: No val...</td>\n",
       "      <td>23/12/2015</td>\n",
       "      <td>01:24:49</td>\n",
       "      <td>[1]</td>\n",
       "      <td>Index connection granted to: 127.0.0.1</td>\n",
       "    </tr>\n",
       "    <tr>\n",
       "      <th>freq</th>\n",
       "      <td>191</td>\n",
       "      <td>9044</td>\n",
       "      <td>555</td>\n",
       "      <td>113287</td>\n",
       "      <td>36040</td>\n",
       "    </tr>\n",
       "  </tbody>\n",
       "</table>\n",
       "</div>"
      ],
      "text/plain": [
       "                                                        0        date  \\\n",
       "count                                              219644      219644   \n",
       "unique                                             136429         201   \n",
       "top     03/07/2016 01:07:59 [1] Replace Fields: No val...  23/12/2015   \n",
       "freq                                                  191        9044   \n",
       "\n",
       "            time serviceID                                 message  \n",
       "count     219644    219644                                  219644  \n",
       "unique      4211         2                                   74025  \n",
       "top     01:24:49       [1]  Index connection granted to: 127.0.0.1  \n",
       "freq         555    113287                                   36040  "
      ]
     },
     "execution_count": 2,
     "metadata": {},
     "output_type": "execute_result"
    }
   ],
   "source": [
    "path_dir = './log'\n",
    "file_list = os.listdir(path_dir)\n",
    "file_list.sort()\n",
    "data = pd.DataFrame()\n",
    "for file in file_list:\n",
    "    now = pd.read_csv(f'./{file}', sep='\\r\\s', header=None, engine='python')\n",
    "    data = pd.concat([data,now])\n",
    "data[['date', 'time', 'serviceID', 'message']] = data[0].str.split(' ', n=3, expand=True)\n",
    "warnings.filterwarnings(action='ignore')\n",
    "data.describe()"
   ]
  },
  {
   "cell_type": "markdown",
   "metadata": {},
   "source": [
    "---"
   ]
  },
  {
   "cell_type": "markdown",
   "metadata": {},
   "source": [
    "## assign index and datetime"
   ]
  },
  {
   "cell_type": "code",
   "execution_count": 3,
   "metadata": {},
   "outputs": [
    {
     "data": {
      "text/html": [
       "<div>\n",
       "<style scoped>\n",
       "    .dataframe tbody tr th:only-of-type {\n",
       "        vertical-align: middle;\n",
       "    }\n",
       "\n",
       "    .dataframe tbody tr th {\n",
       "        vertical-align: top;\n",
       "    }\n",
       "\n",
       "    .dataframe thead th {\n",
       "        text-align: right;\n",
       "    }\n",
       "</style>\n",
       "<table border=\"1\" class=\"dataframe\">\n",
       "  <thead>\n",
       "    <tr style=\"text-align: right;\">\n",
       "      <th></th>\n",
       "      <th>timestamp</th>\n",
       "      <th>serviceID</th>\n",
       "      <th>message</th>\n",
       "    </tr>\n",
       "    <tr>\n",
       "      <th>index</th>\n",
       "      <th></th>\n",
       "      <th></th>\n",
       "      <th></th>\n",
       "    </tr>\n",
       "  </thead>\n",
       "  <tbody>\n",
       "    <tr>\n",
       "      <th>0</th>\n",
       "      <td>2015-07-16 01:39:22</td>\n",
       "      <td>[1]</td>\n",
       "      <td>Autonomy IDOL Server Version 7.6.0.0 Build 942155</td>\n",
       "    </tr>\n",
       "    <tr>\n",
       "      <th>1</th>\n",
       "      <td>2015-07-16 01:39:22</td>\n",
       "      <td>[1]</td>\n",
       "      <td>Creating directory D:\\ezone_idol\\IDOLServer\\co...</td>\n",
       "    </tr>\n",
       "    <tr>\n",
       "      <th>2</th>\n",
       "      <td>2015-07-16 01:39:22</td>\n",
       "      <td>[1]</td>\n",
       "      <td>Successfully created incoming directory.</td>\n",
       "    </tr>\n",
       "    <tr>\n",
       "      <th>3</th>\n",
       "      <td>2015-07-16 01:39:24</td>\n",
       "      <td>[1]</td>\n",
       "      <td>Creating empty database...</td>\n",
       "    </tr>\n",
       "    <tr>\n",
       "      <th>4</th>\n",
       "      <td>2015-07-16 01:39:26</td>\n",
       "      <td>[1]</td>\n",
       "      <td>Performed hostname lookup and converted IndexC...</td>\n",
       "    </tr>\n",
       "    <tr>\n",
       "      <th>...</th>\n",
       "      <td>...</td>\n",
       "      <td>...</td>\n",
       "      <td>...</td>\n",
       "    </tr>\n",
       "    <tr>\n",
       "      <th>219639</th>\n",
       "      <td>2016-07-09 01:31:39</td>\n",
       "      <td>[1]</td>\n",
       "      <td>Index Queue Command: DREREPLACE?D%3A%5CEZONE%5...</td>\n",
       "    </tr>\n",
       "    <tr>\n",
       "      <th>219640</th>\n",
       "      <td>2016-07-09 01:31:39</td>\n",
       "      <td>[1]</td>\n",
       "      <td>Index command finished. Took 0.02 s</td>\n",
       "    </tr>\n",
       "    <tr>\n",
       "      <th>219641</th>\n",
       "      <td>2016-07-09 01:31:39</td>\n",
       "      <td>[1]</td>\n",
       "      <td>Index Queue Command: DREREPLACE?D%3A%5CEZONE%5...</td>\n",
       "    </tr>\n",
       "    <tr>\n",
       "      <th>219642</th>\n",
       "      <td>2016-07-09 01:31:39</td>\n",
       "      <td>[1]</td>\n",
       "      <td>Index command finished. Took 0.02 s</td>\n",
       "    </tr>\n",
       "    <tr>\n",
       "      <th>219643</th>\n",
       "      <td>2016-07-09 01:31:39</td>\n",
       "      <td>[1]</td>\n",
       "      <td>Index Queue Command: DREREPLACE?D%3A%5CEZONE%5...</td>\n",
       "    </tr>\n",
       "  </tbody>\n",
       "</table>\n",
       "<p>219644 rows × 3 columns</p>\n",
       "</div>"
      ],
      "text/plain": [
       "                 timestamp serviceID  \\\n",
       "index                                  \n",
       "0      2015-07-16 01:39:22       [1]   \n",
       "1      2015-07-16 01:39:22       [1]   \n",
       "2      2015-07-16 01:39:22       [1]   \n",
       "3      2015-07-16 01:39:24       [1]   \n",
       "4      2015-07-16 01:39:26       [1]   \n",
       "...                    ...       ...   \n",
       "219639 2016-07-09 01:31:39       [1]   \n",
       "219640 2016-07-09 01:31:39       [1]   \n",
       "219641 2016-07-09 01:31:39       [1]   \n",
       "219642 2016-07-09 01:31:39       [1]   \n",
       "219643 2016-07-09 01:31:39       [1]   \n",
       "\n",
       "                                                  message  \n",
       "index                                                      \n",
       "0       Autonomy IDOL Server Version 7.6.0.0 Build 942155  \n",
       "1       Creating directory D:\\ezone_idol\\IDOLServer\\co...  \n",
       "2                Successfully created incoming directory.  \n",
       "3                              Creating empty database...  \n",
       "4       Performed hostname lookup and converted IndexC...  \n",
       "...                                                   ...  \n",
       "219639  Index Queue Command: DREREPLACE?D%3A%5CEZONE%5...  \n",
       "219640                Index command finished. Took 0.02 s  \n",
       "219641  Index Queue Command: DREREPLACE?D%3A%5CEZONE%5...  \n",
       "219642                Index command finished. Took 0.02 s  \n",
       "219643  Index Queue Command: DREREPLACE?D%3A%5CEZONE%5...  \n",
       "\n",
       "[219644 rows x 3 columns]"
      ]
     },
     "execution_count": 3,
     "metadata": {},
     "output_type": "execute_result"
    }
   ],
   "source": [
    "data['datetime'] = data['date'] + data['time']\n",
    "data['timestamp'] = pd.to_datetime(data['datetime'], format=\"%d/%m/%Y%H:%M:%S\")\n",
    "data.drop(columns=[0,'date','time','datetime'], inplace=True)\n",
    "data.insert(0,'index', range(len(data)))\n",
    "data.set_index('index',inplace=True)\n",
    "data = data[['timestamp', 'serviceID', 'message']]\n",
    "data"
   ]
  },
  {
   "cell_type": "markdown",
   "metadata": {},
   "source": [
    "---"
   ]
  },
  {
   "cell_type": "markdown",
   "metadata": {},
   "source": [
    "## extract command messages and processing time"
   ]
  },
  {
   "cell_type": "code",
   "execution_count": 4,
   "metadata": {},
   "outputs": [
    {
     "data": {
      "text/html": [
       "<div>\n",
       "<style scoped>\n",
       "    .dataframe tbody tr th:only-of-type {\n",
       "        vertical-align: middle;\n",
       "    }\n",
       "\n",
       "    .dataframe tbody tr th {\n",
       "        vertical-align: top;\n",
       "    }\n",
       "\n",
       "    .dataframe thead th {\n",
       "        text-align: right;\n",
       "    }\n",
       "</style>\n",
       "<table border=\"1\" class=\"dataframe\">\n",
       "  <thead>\n",
       "    <tr style=\"text-align: right;\">\n",
       "      <th></th>\n",
       "      <th>timestamp</th>\n",
       "      <th>serviceID</th>\n",
       "      <th>message</th>\n",
       "      <th>processtime</th>\n",
       "    </tr>\n",
       "    <tr>\n",
       "      <th>index</th>\n",
       "      <th></th>\n",
       "      <th></th>\n",
       "      <th></th>\n",
       "      <th></th>\n",
       "    </tr>\n",
       "  </thead>\n",
       "  <tbody>\n",
       "    <tr>\n",
       "      <th>37</th>\n",
       "      <td>2015-07-16 01:51:40</td>\n",
       "      <td>[1]</td>\n",
       "      <td>Index Queue Command: DRERESIZEINDEXCACHE?Index...</td>\n",
       "      <td>0.05</td>\n",
       "    </tr>\n",
       "    <tr>\n",
       "      <th>57</th>\n",
       "      <td>2015-07-16 01:56:34</td>\n",
       "      <td>[1]</td>\n",
       "      <td>Done Indexing IndexID=2</td>\n",
       "      <td>56.74</td>\n",
       "    </tr>\n",
       "    <tr>\n",
       "      <th>66</th>\n",
       "      <td>2015-07-16 01:57:09</td>\n",
       "      <td>[1]</td>\n",
       "      <td>Sync Mapped Files...Completed</td>\n",
       "      <td>34.77</td>\n",
       "    </tr>\n",
       "    <tr>\n",
       "      <th>84</th>\n",
       "      <td>2015-07-16 01:57:12</td>\n",
       "      <td>[1]</td>\n",
       "      <td>Done Indexing IndexID=4</td>\n",
       "      <td>2.82</td>\n",
       "    </tr>\n",
       "    <tr>\n",
       "      <th>99</th>\n",
       "      <td>2015-07-16 01:57:15</td>\n",
       "      <td>[1]</td>\n",
       "      <td>Done Indexing IndexID=5</td>\n",
       "      <td>3.18</td>\n",
       "    </tr>\n",
       "  </tbody>\n",
       "</table>\n",
       "</div>"
      ],
      "text/plain": [
       "                timestamp serviceID  \\\n",
       "index                                 \n",
       "37    2015-07-16 01:51:40       [1]   \n",
       "57    2015-07-16 01:56:34       [1]   \n",
       "66    2015-07-16 01:57:09       [1]   \n",
       "84    2015-07-16 01:57:12       [1]   \n",
       "99    2015-07-16 01:57:15       [1]   \n",
       "\n",
       "                                                 message  processtime  \n",
       "index                                                                  \n",
       "37     Index Queue Command: DRERESIZEINDEXCACHE?Index...         0.05  \n",
       "57                               Done Indexing IndexID=2        56.74  \n",
       "66                         Sync Mapped Files...Completed        34.77  \n",
       "84                               Done Indexing IndexID=4         2.82  \n",
       "99                               Done Indexing IndexID=5         3.18  "
      ]
     },
     "execution_count": 4,
     "metadata": {},
     "output_type": "execute_result"
    }
   ],
   "source": [
    "took = data[data['message'].str.contains('Took')]\n",
    "process = data.iloc[list(took.index-1)]\n",
    "process.insert(3,'processtime', list(took['message']))\n",
    "process['processtime'] = process['processtime'].str.replace('[^0-9.]','')\n",
    "process['processtime'] = process['processtime'].str[1:]\n",
    "process['processtime'] = pd.to_numeric(process['processtime'])\n",
    "process.head()"
   ]
  },
  {
   "cell_type": "markdown",
   "metadata": {},
   "source": [
    "---"
   ]
  },
  {
   "cell_type": "markdown",
   "metadata": {},
   "source": [
    "## extract inserts and updates"
   ]
  },
  {
   "cell_type": "code",
   "execution_count": 5,
   "metadata": {},
   "outputs": [
    {
     "data": {
      "text/html": [
       "<div>\n",
       "<style scoped>\n",
       "    .dataframe tbody tr th:only-of-type {\n",
       "        vertical-align: middle;\n",
       "    }\n",
       "\n",
       "    .dataframe tbody tr th {\n",
       "        vertical-align: top;\n",
       "    }\n",
       "\n",
       "    .dataframe thead th {\n",
       "        text-align: right;\n",
       "    }\n",
       "</style>\n",
       "<table border=\"1\" class=\"dataframe\">\n",
       "  <thead>\n",
       "    <tr style=\"text-align: right;\">\n",
       "      <th></th>\n",
       "      <th>timestamp</th>\n",
       "      <th>serviceID</th>\n",
       "      <th>message</th>\n",
       "      <th>processtime</th>\n",
       "      <th>insert</th>\n",
       "      <th>update</th>\n",
       "    </tr>\n",
       "    <tr>\n",
       "      <th>index</th>\n",
       "      <th></th>\n",
       "      <th></th>\n",
       "      <th></th>\n",
       "      <th></th>\n",
       "      <th></th>\n",
       "      <th></th>\n",
       "    </tr>\n",
       "  </thead>\n",
       "  <tbody>\n",
       "    <tr>\n",
       "      <th>57</th>\n",
       "      <td>2015-07-16 01:56:34</td>\n",
       "      <td>[1]</td>\n",
       "      <td>Done Indexing IndexID=2</td>\n",
       "      <td>56.74</td>\n",
       "      <td>1574</td>\n",
       "      <td>0</td>\n",
       "    </tr>\n",
       "    <tr>\n",
       "      <th>84</th>\n",
       "      <td>2015-07-16 01:57:12</td>\n",
       "      <td>[1]</td>\n",
       "      <td>Done Indexing IndexID=4</td>\n",
       "      <td>2.82</td>\n",
       "      <td>3127</td>\n",
       "      <td>1477</td>\n",
       "    </tr>\n",
       "    <tr>\n",
       "      <th>99</th>\n",
       "      <td>2015-07-16 01:57:15</td>\n",
       "      <td>[1]</td>\n",
       "      <td>Done Indexing IndexID=5</td>\n",
       "      <td>3.18</td>\n",
       "      <td>3816</td>\n",
       "      <td>4319</td>\n",
       "    </tr>\n",
       "    <tr>\n",
       "      <th>116</th>\n",
       "      <td>2015-07-16 01:57:35</td>\n",
       "      <td>[1]</td>\n",
       "      <td>Done Indexing IndexID=6</td>\n",
       "      <td>1.84</td>\n",
       "      <td>1035</td>\n",
       "      <td>3924</td>\n",
       "    </tr>\n",
       "    <tr>\n",
       "      <th>134</th>\n",
       "      <td>2015-07-16 01:57:38</td>\n",
       "      <td>[1]</td>\n",
       "      <td>Done Indexing IndexID=7</td>\n",
       "      <td>0.89</td>\n",
       "      <td>459</td>\n",
       "      <td>3152</td>\n",
       "    </tr>\n",
       "  </tbody>\n",
       "</table>\n",
       "</div>"
      ],
      "text/plain": [
       "                timestamp serviceID                  message  processtime  \\\n",
       "index                                                                       \n",
       "57    2015-07-16 01:56:34       [1]  Done Indexing IndexID=2        56.74   \n",
       "84    2015-07-16 01:57:12       [1]  Done Indexing IndexID=4         2.82   \n",
       "99    2015-07-16 01:57:15       [1]  Done Indexing IndexID=5         3.18   \n",
       "116   2015-07-16 01:57:35       [1]  Done Indexing IndexID=6         1.84   \n",
       "134   2015-07-16 01:57:38       [1]  Done Indexing IndexID=7         0.89   \n",
       "\n",
       "       insert  update  \n",
       "index                  \n",
       "57       1574       0  \n",
       "84       3127    1477  \n",
       "99       3816    4319  \n",
       "116      1035    3924  \n",
       "134       459    3152  "
      ]
     },
     "execution_count": 5,
     "metadata": {},
     "output_type": "execute_result"
    }
   ],
   "source": [
    "idx = process[process['message'].str.contains('Done Indexing')]\n",
    "idx['document'] = list(data.iloc[list(idx.index-1)].message)\n",
    "idx['document'] = idx['document'].str.replace('[^\\d,]','')\n",
    "idx[['insert', 'update']] = idx['document'].str.split(',', n=2, expand=True)\n",
    "idx['insert'] = idx['insert'].str.replace('^\\s*$', '0')\n",
    "idx['update'].fillna(0,inplace = True)\n",
    "idx['insert'] = pd.to_numeric(idx['insert'])\n",
    "idx['update'] = pd.to_numeric(idx['update'])\n",
    "idx.drop(columns='document',inplace=True)\n",
    "idx.head()"
   ]
  },
  {
   "cell_type": "markdown",
   "metadata": {},
   "source": [
    "---"
   ]
  },
  {
   "cell_type": "markdown",
   "metadata": {},
   "source": [
    "## group by hour"
   ]
  },
  {
   "cell_type": "code",
   "execution_count": 6,
   "metadata": {},
   "outputs": [
    {
     "data": {
      "text/html": [
       "<div>\n",
       "<style scoped>\n",
       "    .dataframe tbody tr th:only-of-type {\n",
       "        vertical-align: middle;\n",
       "    }\n",
       "\n",
       "    .dataframe tbody tr th {\n",
       "        vertical-align: top;\n",
       "    }\n",
       "\n",
       "    .dataframe thead th {\n",
       "        text-align: right;\n",
       "    }\n",
       "</style>\n",
       "<table border=\"1\" class=\"dataframe\">\n",
       "  <thead>\n",
       "    <tr style=\"text-align: right;\">\n",
       "      <th></th>\n",
       "      <th>insertsum(docs)</th>\n",
       "      <th>updatesum(docs)</th>\n",
       "      <th>indexpersecond(docs/s)</th>\n",
       "      <th>processtimesum(s)</th>\n",
       "      <th>processtimemean(s)</th>\n",
       "      <th>processtimemax(s)</th>\n",
       "      <th>processtimemin(s)</th>\n",
       "      <th>count(cmds)</th>\n",
       "    </tr>\n",
       "    <tr>\n",
       "      <th>timestamphour</th>\n",
       "      <th></th>\n",
       "      <th></th>\n",
       "      <th></th>\n",
       "      <th></th>\n",
       "      <th></th>\n",
       "      <th></th>\n",
       "      <th></th>\n",
       "      <th></th>\n",
       "    </tr>\n",
       "  </thead>\n",
       "  <tbody>\n",
       "    <tr>\n",
       "      <th>1</th>\n",
       "      <td>358029</td>\n",
       "      <td>1168117</td>\n",
       "      <td>174</td>\n",
       "      <td>8722.88</td>\n",
       "      <td>42.55</td>\n",
       "      <td>6431.77</td>\n",
       "      <td>0.02</td>\n",
       "      <td>205</td>\n",
       "    </tr>\n",
       "    <tr>\n",
       "      <th>2</th>\n",
       "      <td>23303</td>\n",
       "      <td>233450</td>\n",
       "      <td>973</td>\n",
       "      <td>263.61</td>\n",
       "      <td>20.28</td>\n",
       "      <td>185.33</td>\n",
       "      <td>0.19</td>\n",
       "      <td>13</td>\n",
       "    </tr>\n",
       "    <tr>\n",
       "      <th>10</th>\n",
       "      <td>4</td>\n",
       "      <td>165</td>\n",
       "      <td>1207</td>\n",
       "      <td>0.14</td>\n",
       "      <td>0.14</td>\n",
       "      <td>0.14</td>\n",
       "      <td>0.14</td>\n",
       "      <td>1</td>\n",
       "    </tr>\n",
       "    <tr>\n",
       "      <th>11</th>\n",
       "      <td>19336</td>\n",
       "      <td>122900</td>\n",
       "      <td>3567</td>\n",
       "      <td>39.87</td>\n",
       "      <td>9.97</td>\n",
       "      <td>32.24</td>\n",
       "      <td>0.89</td>\n",
       "      <td>4</td>\n",
       "    </tr>\n",
       "    <tr>\n",
       "      <th>13</th>\n",
       "      <td>18127</td>\n",
       "      <td>100352</td>\n",
       "      <td>1471</td>\n",
       "      <td>80.53</td>\n",
       "      <td>8.95</td>\n",
       "      <td>68.71</td>\n",
       "      <td>0.25</td>\n",
       "      <td>9</td>\n",
       "    </tr>\n",
       "    <tr>\n",
       "      <th>14</th>\n",
       "      <td>0</td>\n",
       "      <td>29</td>\n",
       "      <td>966</td>\n",
       "      <td>0.03</td>\n",
       "      <td>0.03</td>\n",
       "      <td>0.03</td>\n",
       "      <td>0.03</td>\n",
       "      <td>1</td>\n",
       "    </tr>\n",
       "    <tr>\n",
       "      <th>16</th>\n",
       "      <td>133195</td>\n",
       "      <td>1728725</td>\n",
       "      <td>946</td>\n",
       "      <td>1966.57</td>\n",
       "      <td>10.14</td>\n",
       "      <td>437.64</td>\n",
       "      <td>0.84</td>\n",
       "      <td>194</td>\n",
       "    </tr>\n",
       "    <tr>\n",
       "      <th>17</th>\n",
       "      <td>312</td>\n",
       "      <td>16395</td>\n",
       "      <td>2030</td>\n",
       "      <td>8.23</td>\n",
       "      <td>1.18</td>\n",
       "      <td>2.65</td>\n",
       "      <td>0.31</td>\n",
       "      <td>7</td>\n",
       "    </tr>\n",
       "    <tr>\n",
       "      <th>23</th>\n",
       "      <td>317956</td>\n",
       "      <td>1264899</td>\n",
       "      <td>1624</td>\n",
       "      <td>974.46</td>\n",
       "      <td>27.84</td>\n",
       "      <td>288.94</td>\n",
       "      <td>0.58</td>\n",
       "      <td>35</td>\n",
       "    </tr>\n",
       "  </tbody>\n",
       "</table>\n",
       "</div>"
      ],
      "text/plain": [
       "               insertsum(docs)  updatesum(docs)  indexpersecond(docs/s)  \\\n",
       "timestamphour                                                             \n",
       "1                       358029          1168117                     174   \n",
       "2                        23303           233450                     973   \n",
       "10                           4              165                    1207   \n",
       "11                       19336           122900                    3567   \n",
       "13                       18127           100352                    1471   \n",
       "14                           0               29                     966   \n",
       "16                      133195          1728725                     946   \n",
       "17                         312            16395                    2030   \n",
       "23                      317956          1264899                    1624   \n",
       "\n",
       "               processtimesum(s)  processtimemean(s)  processtimemax(s)  \\\n",
       "timestamphour                                                             \n",
       "1                        8722.88               42.55            6431.77   \n",
       "2                         263.61               20.28             185.33   \n",
       "10                          0.14                0.14               0.14   \n",
       "11                         39.87                9.97              32.24   \n",
       "13                         80.53                8.95              68.71   \n",
       "14                          0.03                0.03               0.03   \n",
       "16                       1966.57               10.14             437.64   \n",
       "17                          8.23                1.18               2.65   \n",
       "23                        974.46               27.84             288.94   \n",
       "\n",
       "               processtimemin(s)  count(cmds)  \n",
       "timestamphour                                  \n",
       "1                           0.02          205  \n",
       "2                           0.19           13  \n",
       "10                          0.14            1  \n",
       "11                          0.89            4  \n",
       "13                          0.25            9  \n",
       "14                          0.03            1  \n",
       "16                          0.84          194  \n",
       "17                          0.31            7  \n",
       "23                          0.58           35  "
      ]
     },
     "execution_count": 6,
     "metadata": {},
     "output_type": "execute_result"
    }
   ],
   "source": [
    "idx['timestamphour'] = idx['timestamp'].dt.hour\n",
    "pivot = idx.pivot_table(values=['processtime', 'insert', 'update'], index='timestamphour' ,aggfunc=np.sum)\n",
    "pivot['indexpersecond(docs/s)'] = ((pivot['insert'] + pivot['update']) / pivot['processtime']).astype(int)\n",
    "pivot2 = idx.pivot_table(values='processtime', index='timestamphour', aggfunc=np.mean)\n",
    "pivot3 = idx.pivot_table(values='processtime', index='timestamphour', aggfunc=np.max)\n",
    "pivot4 = idx.pivot_table(values='processtime', index='timestamphour', aggfunc=np.min)\n",
    "pivot5 = idx.pivot_table(values='processtime', index='timestamphour', aggfunc='count')\n",
    "pivot['processtimemean(s)'] = pivot2['processtime'].round(2)\n",
    "pivot['processtimemax(s)'] = pivot3['processtime'].round(2)\n",
    "pivot['processtimemin(s)'] = pivot4['processtime'].round(2)\n",
    "pivot['count(cmds)'] = pivot5['processtime'].round(2)\n",
    "new_index = ['insert','update','indexpersecond(docs/s)','processtime','processtimemean(s)','processtimemax(s)','processtimemin(s)','count(cmds)']\n",
    "new_index_name = {'insert':'insertsum(docs)','update':'updatesum(docs)','processtime':'processtimesum(s)'}\n",
    "pivot = pivot.reindex(new_index, axis='columns')\n",
    "pivot.rename(new_index_name,axis='columns',inplace=True)\n",
    "pivot"
   ]
  },
  {
   "cell_type": "markdown",
   "metadata": {},
   "source": [
    "---"
   ]
  },
  {
   "cell_type": "markdown",
   "metadata": {},
   "source": [
    "## data visualization"
   ]
  },
  {
   "cell_type": "code",
   "execution_count": 7,
   "metadata": {},
   "outputs": [
    {
     "data": {
      "text/plain": [
       "<matplotlib.axes._subplots.AxesSubplot at 0x1eb7a603908>"
      ]
     },
     "execution_count": 7,
     "metadata": {},
     "output_type": "execute_result"
    },
    {
     "data": {
      "image/png": "[encoded data removed]",
      "text/plain": [
       "<Figure size 1296x288 with 1 Axes>"
      ]
     },
     "metadata": {
      "needs_background": "light"
     },
     "output_type": "display_data"
    }
   ],
   "source": [
    "plt.figure(figsize=[18,4])\n",
    "\n",
    "sns.pointplot(x=pivot.index, y='indexpersecond(docs/s)',data=pivot)"
   ]
  },
  {
   "cell_type": "code",
   "execution_count": 8,
   "metadata": {},
   "outputs": [
    {
     "data": {
      "text/plain": [
       "<matplotlib.axes._subplots.AxesSubplot at 0x1eb79d18608>"
      ]
     },
     "execution_count": 8,
     "metadata": {},
     "output_type": "execute_result"
    },
    {
     "data": {
      "image/png": "[encoded data removed]",
      "text/plain": [
       "<Figure size 1296x288 with 1 Axes>"
      ]
     },
     "metadata": {
      "needs_background": "light"
     },
     "output_type": "display_data"
    }
   ],
   "source": [
    "fig, ax3 = plt.subplots(nrows=1, ncols=1)\n",
    "fig.set_size_inches(18, 4)\n",
    "\n",
    "sns.barplot(data=pivot, x=pivot.index, y=\"insertsum(docs)\", ax=ax3)"
   ]
  },
  {
   "cell_type": "code",
   "execution_count": 9,
   "metadata": {},
   "outputs": [
    {
     "data": {
      "text/plain": [
       "<matplotlib.axes._subplots.AxesSubplot at 0x1eb79d769c8>"
      ]
     },
     "execution_count": 9,
     "metadata": {},
     "output_type": "execute_result"
    },
    {
     "data": {
      "image/png": "[encoded data removed]",
      "text/plain": [
       "<Figure size 1296x288 with 1 Axes>"
      ]
     },
     "metadata": {
      "needs_background": "light"
     },
     "output_type": "display_data"
    }
   ],
   "source": [
    "fig, ax4 = plt.subplots(nrows=1, ncols=1)\n",
    "fig.set_size_inches(18, 4)\n",
    "\n",
    "sns.barplot(data=pivot, x=pivot.index, y=\"updatesum(docs)\", ax=ax4)"
   ]
  },
  {
   "cell_type": "markdown",
   "metadata": {},
   "source": [
    "---"
   ]
  },
  {
   "cell_type": "markdown",
   "metadata": {},
   "source": [
    "## export to excel file"
   ]
  },
  {
   "cell_type": "code",
   "execution_count": 12,
   "metadata": {},
   "outputs": [],
   "source": [
    "pivot.to_excel(\"output.xlsx\")"
   ]
  },
  {
   "cell_type": "code",
   "execution_count": null,
   "metadata": {},
   "outputs": [],
   "source": []
  }
 ],
 "metadata": {
  "kernelspec": {
   "display_name": "Python 3",
   "language": "python",
   "name": "python3"
  },
  "language_info": {
   "codemirror_mode": {
    "name": "ipython",
    "version": 3
   },
   "file_extension": ".py",
   "mimetype": "text/x-python",
   "name": "python",
   "nbconvert_exporter": "python",
   "pygments_lexer": "ipython3",
   "version": "3.7.6"
  }
 },
 "nbformat": 4,
 "nbformat_minor": 4
}
