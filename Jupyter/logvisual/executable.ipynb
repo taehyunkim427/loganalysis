{
 "cells": [
  {
   "cell_type": "code",
   "execution_count": 8,
   "metadata": {},
   "outputs": [],
   "source": [
    "import os\n",
    "import pandas as pd\n",
    "import re\n",
    "import numpy as np\n",
    "import matplotlib as mpl\n",
    "import matplotlib.pyplot as plt\n",
    "import seaborn as sns\n",
    "import warnings\n",
    "\n",
    "if __name__ == \"__main__\":\n",
    "    path_dir = './log'\n",
    "    file_list = os.listdir(path_dir)\n",
    "    file_list.sort()\n",
    "    data = pd.DataFrame()\n",
    "    for file in file_list:\n",
    "        now = pd.read_csv(f'./{file}', sep='\\r\\s', header=None, engine='python')\n",
    "        data = pd.concat([data,now])\n",
    "    data[['date', 'time','loglevel' ,'serviceID', 'message']] = data[0].str.split(' ', n=4, expand=True)\n",
    "    warnings.filterwarnings(action='ignore')\n",
    "    data['datetime'] = data['date'] + data['time']\n",
    "    data['timestamp'] = pd.to_datetime(data['datetime'], format=\"%d/%m/%Y%H:%M:%S\")\n",
    "    data.drop(columns=[0,'date','time','datetime'], inplace=True)\n",
    "    data.insert(0,'index', range(len(data)))\n",
    "    data.set_index('index',inplace=True)\n",
    "    data = data[['timestamp', 'serviceID', 'loglevel', 'message']]\n",
    "    took = data[data['message'].str.contains('Took')]\n",
    "    process = data.iloc[list(took.index-1)]\n",
    "    process.insert(4,'processtime', list(took['message']))\n",
    "    process['processtime'] = process['processtime'].str.replace('[^0-9.]','')\n",
    "    process['processtime'] = process['processtime'].str[1:]\n",
    "    process['processtime'] = pd.to_numeric(process['processtime'])\n",
    "    idx = process[process['message'].str.contains('Done Indexing')]\n",
    "    idx['document'] = list(data.iloc[list(idx.index-1)].message)\n",
    "    idx['document'] = idx['document'].str.replace('[^\\d,]','')\n",
    "    idx[['insert', 'update']] = idx['document'].str.split(',', n=2, expand=True)\n",
    "    idx['insert'] = idx['insert'].str.replace('^\\s*$', '0')\n",
    "    idx['update'].fillna(0,inplace = True)\n",
    "    idx['insert'] = pd.to_numeric(idx['insert'])\n",
    "    idx['update'] = pd.to_numeric(idx['update'])\n",
    "    idx.drop(columns='document',inplace=True)\n",
    "    idx['timestamphour'] = idx['timestamp'].dt.hour\n",
    "    pivot = idx.pivot_table(values=['processtime', 'insert', 'update'], index='timestamphour' ,aggfunc=np.sum)\n",
    "    pivot['indexpersecond(docs/s)'] = ((pivot['insert'] + pivot['update']) / pivot['processtime']).astype(int)\n",
    "    pivot2 = idx.pivot_table(values='processtime', index='timestamphour', aggfunc=np.mean)\n",
    "    pivot3 = idx.pivot_table(values='processtime', index='timestamphour', aggfunc=np.max)\n",
    "    pivot4 = idx.pivot_table(values='processtime', index='timestamphour', aggfunc=np.min)\n",
    "    pivot5 = idx.pivot_table(values='processtime', index='timestamphour', aggfunc='count')\n",
    "    pivot['processtimemean(s)'] = pivot2['processtime'].round(2)\n",
    "    pivot['processtimemax(s)'] = pivot3['processtime'].round(2)\n",
    "    pivot['processtimemin(s)'] = pivot4['processtime'].round(2)\n",
    "    pivot['count(cmds)'] = pivot5['processtime'].round(2)\n",
    "    new_index = ['insert','update','indexpersecond(docs/s)','processtime','processtimemean(s)','processtimemax(s)','processtimemin(s)','count(cmds)']\n",
    "    new_index_name = {'insert':'insertsum(docs)','update':'updatesum(docs)','processtime':'processtimesum(s)'}\n",
    "    pivot = pivot.reindex(new_index, axis='columns')\n",
    "    pivot.rename(new_index_name,axis='columns',inplace=True)\n",
    "    pivot.to_excel(\"./loganalysis.xlsx\")"
   ]
  },
  {
   "cell_type": "code",
   "execution_count": null,
   "metadata": {},
   "outputs": [],
   "source": []
  }
 ],
 "metadata": {
  "kernelspec": {
   "display_name": "Python 3",
   "language": "python",
   "name": "python3"
  },
  "language_info": {
   "codemirror_mode": {
    "name": "ipython",
    "version": 3
   },
   "file_extension": ".py",
   "mimetype": "text/x-python",
   "name": "python",
   "nbconvert_exporter": "python",
   "pygments_lexer": "ipython3",
   "version": "3.7.6"
  }
 },
 "nbformat": 4,
 "nbformat_minor": 4
}
